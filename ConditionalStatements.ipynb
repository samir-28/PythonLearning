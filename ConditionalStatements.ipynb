{
 "cells": [
  {
   "cell_type": "code",
   "execution_count": 11,
   "metadata": {},
   "outputs": [
    {
     "name": "stdout",
     "output_type": "stream",
     "text": [
      "Number is Odd\n"
     ]
    }
   ],
   "source": [
    "#1.Write a program to check whether a number entered by user is even or odd\n",
    "num=int(input(\"Enter the value you want :\"))\n",
    "if num%2==0:\n",
    "    print(\"Number is Even \")\n",
    "else:\n",
    "    print(\"Number is Odd\")\n",
    "\n"
   ]
  },
  {
   "cell_type": "code",
   "execution_count": 14,
   "metadata": {},
   "outputs": [
    {
     "name": "stdout",
     "output_type": "stream",
     "text": [
      "Number is not divisible by 5.\n"
     ]
    }
   ],
   "source": [
    "#2.Write a program to check whether a number is divisible by 5 or not.\n",
    "num=int(input(\"Enter the value you want :\"))\n",
    "if num%5==0:\n",
    "    print(\"Number is divisible by 5. \")\n",
    "else:\n",
    "    print(\"Number is not divisible by 5.\")\n"
   ]
  },
  {
   "cell_type": "code",
   "execution_count": 15,
   "metadata": {},
   "outputs": [
    {
     "name": "stdout",
     "output_type": "stream",
     "text": [
      "Number is not divisible by 5 and 7.\n"
     ]
    }
   ],
   "source": [
    "#3.Write a program to check whether a number is divisible by both 5 and 7 or not.\n",
    "num=int(input(\"Enter the value you want :\"))\n",
    "if (num%5==0 and num%7==0):\n",
    "    print(\"Number is divisible by 5 and 7. \")\n",
    "else:\n",
    "    print(\"Number is not divisible by 5 and 7.\")"
   ]
  },
  {
   "cell_type": "code",
   "execution_count": 17,
   "metadata": {},
   "outputs": [
    {
     "name": "stdout",
     "output_type": "stream",
     "text": [
      "Bye\n"
     ]
    }
   ],
   "source": [
    "#4.Write a program to display “hello “ if a number entered by user is multiple of 3,otherwise print bye\n",
    "\n",
    "num=int(input(\"Enter the value you want :\"))\n",
    "if (num % 3 == 0):\n",
    "    print(\"Hello\")\n",
    "else:\n",
    "    print(\"Bye\")"
   ]
  },
  {
   "cell_type": "code",
   "execution_count": 1,
   "metadata": {},
   "outputs": [
    {
     "name": "stdout",
     "output_type": "stream",
     "text": [
      "you need to pay 0.0 for 100.0 units.\n"
     ]
    }
   ],
   "source": [
    "\"\"\" 5.Write a program to calculate the electricity bill (accept number of unit from user) \n",
    "according to the following criteria:\n",
    "Unit Price\n",
    "First 100 units no charge\n",
    "Next 100 units rs 5 per unit\n",
    "After 200 units rs 10 per unit \"\"\"\n",
    "\n",
    "\n",
    "\n",
    "num_units=float(input(\"Enter the value you want :\"))\n",
    "price=0.0;\n",
    "\n",
    "if(num_units<=100):\n",
    "    price=0.0   \n",
    "elif(num_units >=100 and num_units <=200):\n",
    "    price=(num_units-100)*5\n",
    "else:\n",
    "    price=500 +(num_units-200)*10\n",
    "\n",
    "print(f'you need to pay {price} for {num_units} units.')\n"
   ]
  },
  {
   "cell_type": "code",
   "execution_count": 2,
   "metadata": {},
   "outputs": [
    {
     "name": "stdout",
     "output_type": "stream",
     "text": [
      "you need to pay 8000.0 as road tax for the bike price with 80000.0.\n"
     ]
    }
   ],
   "source": [
    "\"\"\"6.Write a program to accept the cost price of a bike and display the road tax to be \n",
    "paid according to the following criteria: Cost price (in rs) tax\n",
    ">100000 15%\n",
    ">50000 and <= 100000 10%\n",
    "<=50000 5% \"\"\"\n",
    "\n",
    "\n",
    "\n",
    "cost_price=float(input(\"Enter the cost for the bike :\"))\n",
    "road_tax=0.0\n",
    "\n",
    "if(cost_price <= 50000):\n",
    "    road_tax= 0.5 * cost_price\n",
    "            \n",
    "elif(cost_price <=100000 and cost_price > 50000):\n",
    "    road_tax= 0.1* cost_price\n",
    "    \n",
    "else:\n",
    "    road_tax= 0.15 * cost_price\n",
    "\n",
    "print(f'you need to pay {road_tax} as road tax for the bike price with {cost_price}.')"
   ]
  },
  {
   "cell_type": "code",
   "execution_count": 9,
   "metadata": {},
   "outputs": [
    {
     "name": "stdout",
     "output_type": "stream",
     "text": [
      "1990 is not a leap year\n"
     ]
    }
   ],
   "source": [
    "#7.Write a program to check whether an years is leap year or not\n",
    "\n",
    "\n",
    "\n",
    "year=int(input(\"Enter the year to check whether the given year is leap year or not:\"))\n",
    "\n",
    "if (year % 4 == 0 and year % 100 != 0):\n",
    "     print(f'{year} is leap year')\n",
    "\n",
    "elif (year % 400 == 0 and year % 100 == 0):\n",
    "    print(f'{year} is leap year')\n",
    "\n",
    "elif(year % 400 == 0 ):\n",
    "    print(f'{year} is leap year')\n",
    "\n",
    "else:\n",
    "    print(f'{year} is not a leap year')\n",
    "    "
   ]
  },
  {
   "cell_type": "code",
   "execution_count": 22,
   "metadata": {},
   "outputs": [
    {
     "name": "stdout",
     "output_type": "stream",
     "text": [
      "1.Nepal\n",
      "2.China\n",
      "3.India\n",
      "4.Pakistan\n"
     ]
    },
    {
     "data": {
      "text/plain": [
       "'Markhor'"
      ]
     },
     "execution_count": 22,
     "metadata": {},
     "output_type": "execute_result"
    }
   ],
   "source": [
    "\"\"\" 8. Accept any country from user and display national animal of the country.\n",
    "City national animal\n",
    "Nepal cow\n",
    "China giant panda\n",
    "India tiger\n",
    "Pakistan markhor \"\"\"\n",
    "\n",
    "\n",
    "\n",
    "import numpy as np\n",
    "\n",
    "def national_animal(case):\n",
    "    if(case==1):\n",
    "        return 'Cow'\n",
    "    \n",
    "    elif(case==2):\n",
    "        return 'Giant panda'\n",
    "    \n",
    "    elif(case==3):\n",
    "        return 'Tiger'\n",
    "    \n",
    "    elif(case==4):\n",
    "        return 'Markhor'\n",
    "    \n",
    "    else:\n",
    "        return 'Invalid Choice'\n",
    "    \n",
    "\n",
    "print(\"1.Nepal\\n2.China\\n3.India\\n4.Pakistan\")\n",
    "choose=input((\"Enter 'plz' for choosing randomly or 'Help' for choosing by yourself:\"))\n",
    "\n",
    "if( choose == 'plz'):\n",
    "    choice=np.array([1,2,3,4])\n",
    "    country=np.random.choice(choice)\n",
    "\n",
    "else:\n",
    "    country=int(input((\"Enter your choice between 1 to 4:\")))\n",
    "    \n",
    "\n",
    "national_animal(country)\n",
    "\n",
    "\n"
   ]
  },
  {
   "cell_type": "code",
   "execution_count": 3,
   "metadata": {},
   "outputs": [
    {
     "name": "stdout",
     "output_type": "stream",
     "text": [
      "You are  able to attend exam \n"
     ]
    }
   ],
   "source": [
    "\"\"\" # 9.Accept the following from the user and calculate the percentage of class attend:\n",
    "a) total number of working days\n",
    "b) total number of days for absent\n",
    "after calculating percentage show that, if the percentage is less than 75, than student \n",
    "will not be able to sit in exam.(per= (nwd-nad)/nwd*100 \"\"\"\n",
    "\n",
    "\n",
    "\n",
    "wk_days=int(input(\"Enter the total no of working days:\"))\n",
    "ab_day=int(input(\"Enter the total no of days absent:\"))\n",
    "\n",
    "class_attend=(wk_days-ab_day)/wk_days * 100\n",
    "\n",
    "if(class_attend < 75):\n",
    "    print(\"You are not able to attend exam \")\n",
    "else:\n",
    "     print(\"You are  able to attend exam \")"
   ]
  },
  {
   "cell_type": "code",
   "execution_count": 9,
   "metadata": {},
   "outputs": [
    {
     "name": "stdout",
     "output_type": "stream",
     "text": [
      "You obtained B+ grade and 3.21 gpa in your exams\n"
     ]
    }
   ],
   "source": [
    "\"\"\" 10.Accept the percentage from the user and display grade according to the \n",
    "following criteria:\n",
    "• Below 35 -D\n",
    "• 35 to 45 -c\n",
    "• 45-60 -c+\n",
    "• 60-70 -b\n",
    "• 70-80-b+\n",
    "• 80-90-a\n",
    "• 90-100-a+ \"\"\"\n",
    "\n",
    "\n",
    "\n",
    "obt=int(input(\"Enter the percentage you obtained:\"))\n",
    "gpa=0.0\n",
    "\n",
    "if(obt < 35):\n",
    "    grade='D'\n",
    "    \n",
    "elif(obt >=35 and obt < 45):\n",
    "    grade='C'\n",
    "    gpa=1.25 \n",
    "elif(obt >=45 and obt < 60):\n",
    "    grade='C+' \n",
    "    gpa=1.85\n",
    "elif(obt >=60 and obt < 70):\n",
    "    grade='B'\n",
    "    gpa=2.26\n",
    "elif(obt >=70 and obt < 80):\n",
    "    grade='B+'  \n",
    "    gpa=3.21 \n",
    "elif(obt >=80 and obt < 90):\n",
    "    grade='A' \n",
    "    gpa=3.36   \n",
    "elif(obt >=90 and obt < 100):\n",
    "    grade='A+'\n",
    "    gpa=3.60\n",
    "else:\n",
    "    print(\"Invalid....!\")   \n",
    "\n",
    "print(f'You obtained {grade} grade and {gpa} gpa in your exams')\n",
    "    \n",
    "    \n",
    "    \n",
    "    "
   ]
  },
  {
   "cell_type": "code",
   "execution_count": 8,
   "metadata": {},
   "outputs": [
    {
     "name": "stdout",
     "output_type": "stream",
     "text": [
      "Your total salary with bonus is:110000.0\n"
     ]
    }
   ],
   "source": [
    "\"\"\" 11.A company decided to give bonus to employee according to following \n",
    "criteria:\n",
    "Time period of service Bonus\n",
    "More than 10 years 10%\n",
    ">=6 and <=10 8%\n",
    "Less than 6 years 5% \"\"\"\n",
    "\n",
    "\n",
    "time=int(input(\"Enter the time period of the service(Years):\"))\n",
    "salary=int(input(\"Enter the amount of salary you get(Rupees):\"))\n",
    "total_salary=0;\n",
    "\n",
    "if(time > 10):\n",
    "    total_salary=salary + 0.1 *salary\n",
    "elif(time >=6 and time <= 10):\n",
    "    total_salary=salary + 0.08 *salary\n",
    "elif(time < 6):\n",
    "    total_salary=salary + 0.05 *salary\n",
    "else:\n",
    "    print(\"You are unpaid intern\")\n",
    "\n",
    "print(f'Your total salary with bonus is:{total_salary}')"
   ]
  }
 ],
 "metadata": {
  "kernelspec": {
   "display_name": "base",
   "language": "python",
   "name": "python3"
  },
  "language_info": {
   "codemirror_mode": {
    "name": "ipython",
    "version": 3
   },
   "file_extension": ".py",
   "mimetype": "text/x-python",
   "name": "python",
   "nbconvert_exporter": "python",
   "pygments_lexer": "ipython3",
   "version": "3.12.4"
  }
 },
 "nbformat": 4,
 "nbformat_minor": 2
}
