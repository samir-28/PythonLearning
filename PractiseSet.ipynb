{
 "cells": [
  {
   "cell_type": "code",
   "execution_count": 9,
   "metadata": {},
   "outputs": [
    {
     "name": "stdout",
     "output_type": "stream",
     "text": [
      "6\n"
     ]
    }
   ],
   "source": [
    "# write a function to add the first and last element of a list.\n",
    "\n",
    "\n",
    "x=[1,2,3,4,5]\n",
    "\n",
    "def sum(x):\n",
    "    sum=x[0]+x[-1]\n",
    "    return sum\n",
    "\n",
    "a=sum(x)\n",
    "print(a)\n",
    "\n",
    "\n"
   ]
  },
  {
   "cell_type": "code",
   "execution_count": 10,
   "metadata": {},
   "outputs": [
    {
     "name": "stdout",
     "output_type": "stream",
     "text": [
      "The GCD of 48 and 18 is 6\n"
     ]
    }
   ],
   "source": [
    "#create a function to find a gcd of two numbers.\n",
    "def gcd(a, b):\n",
    "    while b:\n",
    "        a, b = b, a % b\n",
    "    return a\n",
    "\n",
    "num1 = 48\n",
    "num2 = 18\n",
    "result = gcd(num1, num2)\n",
    "print(f\"The GCD of {num1} and {num2} is {result}\")\n",
    " "
   ]
  },
  {
   "cell_type": "code",
   "execution_count": 13,
   "metadata": {},
   "outputs": [
    {
     "name": "stdout",
     "output_type": "stream",
     "text": [
      "The first 10 numbers in the Fibonacci sequence are: [0, 1, 1, 2, 3, 5, 8, 13, 21, 34]\n"
     ]
    }
   ],
   "source": [
    "#Generate the first n numbers in the fibonacii sequence.\n",
    "\n",
    "def fibonacci(n):\n",
    "    fib_sequence = [0, 1]\n",
    "    while len(fib_sequence) < n:\n",
    "        fib_sequence.append(fib_sequence[-1] + fib_sequence[-2])\n",
    "    return fib_sequence[:n]\n",
    "\n",
    "n = 10  \n",
    "result = fibonacci(n)\n",
    "print(f\"The first {n} numbers in the Fibonacci sequence are: {result}\")\n"
   ]
  },
  {
   "cell_type": "code",
   "execution_count": 14,
   "metadata": {},
   "outputs": [
    {
     "name": "stdout",
     "output_type": "stream",
     "text": [
      "The sum of even numbers from 1 to 10 is 30\n"
     ]
    }
   ],
   "source": [
    "# Write a function to add even numbers from  1 to n.\n",
    "def sum_even_numbers(n):\n",
    "    total = 0\n",
    "    for i in range(2, n+1, 2):\n",
    "        total += i\n",
    "    return total\n",
    "\n",
    "n = 10  \n",
    "result = sum_even_numbers(n)\n",
    "print(f\"The sum of even numbers from 1 to {n} is {result}\")\n"
   ]
  },
  {
   "cell_type": "code",
   "execution_count": 16,
   "metadata": {},
   "outputs": [
    {
     "name": "stdout",
     "output_type": "stream",
     "text": [
      "Product: 24\n",
      "Sum: 6\n",
      "The product is divisible by the sum.\n"
     ]
    }
   ],
   "source": [
    "# Is product  divisible by the sum? create a function that takes a list of integers and\n",
    "# returns wether the product of those integer is divisible by their sum or not? \n",
    "\n",
    "def is_product_divisible_by_sum(numbers):\n",
    "    if not numbers:\n",
    "        return False, 0, 0  # Handle empty list case\n",
    "    \n",
    "    total_sum = sum(numbers)\n",
    "    total_product = 1\n",
    "    for num in numbers:\n",
    "        total_product *= num\n",
    "    \n",
    "    if total_sum == 0:\n",
    "        return False, total_product, total_sum  # Prevent division by zero\n",
    "    \n",
    "    is_divisible = total_product % total_sum == 0\n",
    "    return is_divisible, total_product, total_sum\n",
    "\n",
    "# Example usage\n",
    "numbers = [2, 3, 4]\n",
    "is_divisible, product, summation = is_product_divisible_by_sum(numbers)\n",
    "\n",
    "print(f\"Product: {product}\")\n",
    "print(f\"Sum: {summation}\")\n",
    "if is_divisible:\n",
    "    print(\"The product is divisible by the sum.\")\n",
    "else:\n",
    "    print(\"The product is not divisible by the sum.\")\n",
    "\n"
   ]
  },
  {
   "cell_type": "code",
   "execution_count": null,
   "metadata": {},
   "outputs": [],
   "source": [
    "# write a function to check if a given number is a pronic number or not.Instruction a pronic number is a\n",
    "#number that is product of two consecutive integers.That means n Is pronic if and only if there are two\n",
    "#consecutive integers -i and i+1 such as n=i(i+1)"
   ]
  },
  {
   "cell_type": "code",
   "execution_count": null,
   "metadata": {},
   "outputs": [],
   "source": []
  },
  {
   "cell_type": "code",
   "execution_count": null,
   "metadata": {},
   "outputs": [],
   "source": []
  },
  {
   "cell_type": "code",
   "execution_count": null,
   "metadata": {},
   "outputs": [],
   "source": []
  },
  {
   "cell_type": "code",
   "execution_count": null,
   "metadata": {},
   "outputs": [],
   "source": []
  },
  {
   "cell_type": "code",
   "execution_count": null,
   "metadata": {},
   "outputs": [],
   "source": []
  },
  {
   "cell_type": "code",
   "execution_count": null,
   "metadata": {},
   "outputs": [],
   "source": []
  }
 ],
 "metadata": {
  "kernelspec": {
   "display_name": "base",
   "language": "python",
   "name": "python3"
  },
  "language_info": {
   "codemirror_mode": {
    "name": "ipython",
    "version": 3
   },
   "file_extension": ".py",
   "mimetype": "text/x-python",
   "name": "python",
   "nbconvert_exporter": "python",
   "pygments_lexer": "ipython3",
   "version": "3.12.4"
  }
 },
 "nbformat": 4,
 "nbformat_minor": 2
}
